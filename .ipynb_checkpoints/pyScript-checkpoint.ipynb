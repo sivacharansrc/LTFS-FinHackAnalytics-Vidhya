{
 "cells": [
  {
   "cell_type": "code",
   "execution_count": 1,
   "metadata": {},
   "outputs": [],
   "source": [
    "# Loading necessary libraries\n",
    "import pandas as pd\n",
    "import numpy as np\n",
    "import matplotlib.pyplot as plt\n",
    "% matplotlib inline\n",
    "import seaborn as sns\n",
    "pd.set_option('display.max_columns',100)\n",
    "pd.set_option('display.max_columns',100)\n",
    "pd.set_option('expand_frame_repr',False)\n",
    "#import calendar"
   ]
  },
  {
   "cell_type": "code",
   "execution_count": 2,
   "metadata": {},
   "outputs": [],
   "source": [
    "# Reading the input file\n",
    "\n",
    "import os\n",
    "cwd = os.getcwd()\n",
    "train = cwd + \"\\\\Source\\\\train.csv\"\n",
    "train = pd.read_csv(train)\n",
    "\n",
    "test = cwd + \"\\\\Source\\\\test.csv\"\n",
    "test = pd.read_csv(test)"
   ]
  },
  {
   "cell_type": "code",
   "execution_count": 19,
   "metadata": {},
   "outputs": [],
   "source": [
    "# print(train[train['Employment.Type'].notnull()]['loan_default'].value_counts() / len(train[train['Employment.Type'].notnull()]))\n",
    "# print(train[train['Employment.Type'].isnull()]['loan_default'].value_counts() / len(train[train['Employment.Type'].isnull()]))\n",
    "# print(train[train['Employment.Type']=='Self employed']['loan_default'].value_counts() / len(train[train['Employment.Type']=='Self employed']))\n",
    "# print(train[train['Employment.Type']=='Salaried']['loan_default'].value_counts() / len(train[train['Employment.Type']=='Salaried']))\n",
    "\n",
    "# # Though there are not much differences between the default distribution, it appears as if the Salaried people are more \n",
    "# # likely to pay loan in item when compared to Self Employed"
   ]
  },
  {
   "cell_type": "code",
   "execution_count": 3,
   "metadata": {},
   "outputs": [],
   "source": [
    "# Converting the date formats\n",
    "\n",
    "train['Date.of.Birth'] = pd.to_datetime(train['Date.of.Birth'], dayfirst=True)\n",
    "train['DisbursalDate'] = pd.to_datetime(train['DisbursalDate'], dayfirst=True)\n",
    "\n",
    "test['Date.of.Birth'] = pd.to_datetime(test['Date.of.Birth'], dayfirst=True)\n",
    "test['DisbursalDate'] = pd.to_datetime(test['DisbursalDate'], dayfirst=True)"
   ]
  },
  {
   "cell_type": "code",
   "execution_count": 46,
   "metadata": {},
   "outputs": [],
   "source": [
    "# Feature Engineering\n",
    "\n",
    "# Creating the age of loan applicant at the time of disbursal\n",
    "train['Age_when_applying'] = (train['DisbursalDate'] - train['Date.of.Birth']).dt.days / 365\n",
    "test['Age_when_applying'] = (train['DisbursalDate'] - test['Date.of.Birth']).dt.days / 365\n",
    "\n",
    "# Creating the avg acct age and cred hist age in months\n",
    "train['avg_acct_age_mnth'] = ((train['AVERAGE.ACCT.AGE'].str.extract('(\\d+)yrs').astype('int64')*12) + train['AVERAGE.ACCT.AGE'].str.extract('(\\d+)mon').astype('int64'))\n",
    "train['avg_credit_hist_mnth'] = ((train['CREDIT.HISTORY.LENGTH'].str.extract('(\\d+)yrs').astype('int64')*12) + train['CREDIT.HISTORY.LENGTH'].str.extract('(\\d+)mon').astype('int64'))\n",
    "\n",
    "test['avg_acct_age_mnth'] = ((test['AVERAGE.ACCT.AGE'].str.extract('(\\d+)yrs').astype('int64')*12) + test['AVERAGE.ACCT.AGE'].str.extract('(\\d+)mon').astype('int64'))\n",
    "test['avg_credit_hist_mnth'] = ((test['CREDIT.HISTORY.LENGTH'].str.extract('(\\d+)yrs').astype('int64')*12) + test['CREDIT.HISTORY.LENGTH'].str.extract('(\\d+)mon').astype('int64'))\n",
    "\n",
    "# Creating a Overdue Percentage for Primary and Seconardy Accounts\n",
    "\n",
    "train['prim_overdue_acct_pct'] = (train['PRI.OVERDUE.ACCTS'] / train['PRI.NO.OF.ACCTS']).fillna(0)\n",
    "train['sec_overdue_acct_pct'] = (train['SEC.OVERDUE.ACCTS'] / train['SEC.NO.OF.ACCTS']).fillna(0)\n",
    "\n",
    "test['prim_overdue_acct_pct'] = (test['PRI.OVERDUE.ACCTS'] / test['PRI.NO.OF.ACCTS']).fillna(0)\n",
    "test['sec_overdue_acct_pct'] = (test['SEC.OVERDUE.ACCTS'] / test['SEC.NO.OF.ACCTS']).fillna(0)\n",
    "\n",
    "# Creating loan to asset ratio\n",
    "train['asset_to_loan_pct'] =  train['asset_cost'] / train['disbursed_amount']\n",
    "test['asset_to_loan_pct'] =  test['asset_cost'] / test['disbursed_amount']\n",
    "\n",
    "# Imputing zero values of CNS Score (Test data also imputed with train mean)\n",
    "train.loc[train['PERFORM_CNS.SCORE']==0, 'PERFORM_CNS.SCORE'] = train['PERFORM_CNS.SCORE'][train['PERFORM_CNS.SCORE'] != 0].mean()\n",
    "test.loc[test['PERFORM_CNS.SCORE']==0, 'PERFORM_CNS.SCORE'] = train['PERFORM_CNS.SCORE'][train['PERFORM_CNS.SCORE'] != 0].mean()"
   ]
  },
  {
   "cell_type": "code",
   "execution_count": 54,
   "metadata": {},
   "outputs": [],
   "source": [
    "# Selecting columns for predictors:\n",
    "\n",
    "predictors = ['disbursed_amount', 'asset_cost', 'ltv','MobileNo_Avl_Flag', 'Aadhar_flag', 'PAN_flag', 'VoterID_flag', 'Driving_flag', 'Passport_flag', 'PERFORM_CNS.SCORE',\n",
    "       'PRI.NO.OF.ACCTS', 'PRI.ACTIVE.ACCTS', 'PRI.OVERDUE.ACCTS', 'PRI.CURRENT.BALANCE', 'PRI.SANCTIONED.AMOUNT', 'PRI.DISBURSED.AMOUNT',\n",
    "       'SEC.NO.OF.ACCTS', 'SEC.ACTIVE.ACCTS', 'SEC.OVERDUE.ACCTS', 'SEC.CURRENT.BALANCE', 'SEC.SANCTIONED.AMOUNT', 'SEC.DISBURSED.AMOUNT',\n",
    "       'PRIMARY.INSTAL.AMT', 'SEC.INSTAL.AMT', 'NEW.ACCTS.IN.LAST.SIX.MONTHS', 'DELINQUENT.ACCTS.IN.LAST.SIX.MONTHS', 'NO.OF_INQUIRIES', 'avg_acct_age_mnth', 'avg_credit_hist_mnth',\n",
    "       'Age_when_applying', 'prim_overdue_acct_pct', 'sec_overdue_acct_pct', 'asset_to_loan_pct']\n",
    "\n",
    "target = 'loan_default'\n",
    "x = train[predictors]\n",
    "y = train[target]\n",
    "test_data = test[predictors]"
   ]
  },
  {
   "cell_type": "code",
   "execution_count": 55,
   "metadata": {},
   "outputs": [],
   "source": [
    "# Standardizing the data to perform naive bayes\n",
    "\n",
    "from sklearn.preprocessing import QuantileTransformer\n",
    "\n",
    "transform_data = QuantileTransformer(output_distribution='normal')\n",
    "col_names = x.columns\n",
    "\n",
    "x = transform_data.fit_transform(x)\n",
    "x = pd.DataFrame(data=x, columns=col_names)\n",
    "\n",
    "test_data = transform_data.fit_transform(test_data)\n",
    "test_data = pd.DataFrame(data=test_data, columns=col_names)"
   ]
  },
  {
   "cell_type": "code",
   "execution_count": 78,
   "metadata": {},
   "outputs": [],
   "source": [
    "# Train and Validation Split\n",
    "\n",
    "from sklearn.model_selection import train_test_split\n",
    "\n",
    "x_train, x_validation, y_train, y_validation = train_test_split(x,y, stratify=y, random_state=1, test_size=0.25)"
   ]
  },
  {
   "cell_type": "code",
   "execution_count": 79,
   "metadata": {},
   "outputs": [],
   "source": [
    "# Running a Naive Bayes Model\n",
    "\n",
    "from sklearn.naive_bayes import GaussianNB\n",
    "model = GaussianNB()\n",
    "\n",
    "# Training the model\n",
    "\n",
    "model.fit(x_train, y_train)\n",
    "train_predictions = model.predict(x_train)\n",
    "predictions = model.predict(x_validation)"
   ]
  },
  {
   "cell_type": "code",
   "execution_count": null,
   "metadata": {},
   "outputs": [],
   "source": [
    "# # Converting to lgbm dataset\n",
    "\n",
    "# import lightgbm as lgb\n",
    "\n",
    "# x_train = lgb.Dataset(x_train, free_raw_data=False)\n",
    "# x_validation = lgb.Dataset(x_validation, free_raw_data=False)"
   ]
  },
  {
   "cell_type": "code",
   "execution_count": 75,
   "metadata": {},
   "outputs": [
    {
     "name": "stdout",
     "output_type": "stream",
     "text": [
      "[1]\tvalid_0's auc: 1\n",
      "Training until validation scores don't improve for 10 rounds.\n",
      "[2]\tvalid_0's auc: 1\n",
      "[3]\tvalid_0's auc: 1\n",
      "[4]\tvalid_0's auc: 1\n",
      "[5]\tvalid_0's auc: 1\n",
      "[6]\tvalid_0's auc: 1\n",
      "[7]\tvalid_0's auc: 1\n",
      "[8]\tvalid_0's auc: 1\n",
      "[9]\tvalid_0's auc: 1\n",
      "[10]\tvalid_0's auc: 1\n",
      "Did not meet early stopping. Best iteration is:\n",
      "[1]\tvalid_0's auc: 1\n"
     ]
    },
    {
     "name": "stderr",
     "output_type": "stream",
     "text": [
      "C:\\Users\\sivac\\Miniconda3\\envs\\MyNewPythonEnvironment\\lib\\site-packages\\lightgbm\\engine.py:123: UserWarning: Found `early_stopping_rounds` in params. Will use it instead of argument\n",
      "  warnings.warn(\"Found `{}` in params. Will use it instead of argument\".format(alias))\n"
     ]
    }
   ],
   "source": [
    "# # Running LGBM\n",
    "\n",
    "# # Setting Parameters:\n",
    "\n",
    "# param = {\n",
    "#         'num_leaves': 4,\n",
    "#         'objective': 'binary',\n",
    "#         'metric': 'auc',\n",
    "#         'early_stopping_rounds':10,\n",
    "#        }\n",
    "\n",
    "# num_round=10\n",
    "# model = lgb.train(param, x_train, num_round, valid_sets=[x_validation])"
   ]
  },
  {
   "cell_type": "code",
   "execution_count": 80,
   "metadata": {},
   "outputs": [
    {
     "name": "stdout",
     "output_type": "stream",
     "text": [
      "Confustion Matrix for Training Data\n",
      "[[101667  35240]\n",
      " [ 23662  14296]]\n",
      "Confustion Matrix for Test Data\n",
      "[[33976 11660]\n",
      " [ 7854  4799]]\n",
      "Classification Report for Training Data\n",
      "             precision    recall  f1-score   support\n",
      "\n",
      "          0       0.81      0.74      0.78    136907\n",
      "          1       0.29      0.38      0.33     37958\n",
      "\n",
      "avg / total       0.70      0.66      0.68    174865\n",
      "\n",
      "Classification Report for Test Data\n",
      "             precision    recall  f1-score   support\n",
      "\n",
      "          0       0.81      0.74      0.78     45636\n",
      "          1       0.29      0.38      0.33     12653\n",
      "\n",
      "avg / total       0.70      0.67      0.68     58289\n",
      "\n"
     ]
    }
   ],
   "source": [
    "# Confusion Matrix and Report\n",
    "\n",
    "from sklearn.metrics import confusion_matrix\n",
    "from sklearn.metrics import classification_report\n",
    "\n",
    "# Confusion Matrix Comparison\n",
    "print(\"Confustion Matrix for Training Data\")\n",
    "print(confusion_matrix(y_train, train_predictions))\n",
    "print(\"Confustion Matrix for Test Data\")\n",
    "print(confusion_matrix(y_validation, predictions))\n",
    "\n",
    "# Classification Report Comparison\n",
    "print(\"Classification Report for Training Data\")\n",
    "print(classification_report(y_train, train_predictions))\n",
    "print(\"Classification Report for Test Data\")\n",
    "print(classification_report(y_validation, predictions))"
   ]
  },
  {
   "cell_type": "code",
   "execution_count": 81,
   "metadata": {},
   "outputs": [
    {
     "name": "stdout",
     "output_type": "stream",
     "text": [
      "AUROC Plot: 0.6029\n"
     ]
    },
    {
     "data": {
      "image/png": "[encoded data removed]",
      "text/plain": [
       "<Figure size 432x288 with 1 Axes>"
      ]
     },
     "metadata": {},
     "output_type": "display_data"
    }
   ],
   "source": [
    "# AUC ROC CURVE\n",
    "from sklearn.metrics import roc_auc_score\n",
    "from sklearn.metrics import roc_curve\n",
    "\n",
    "predictions = model.predict_proba(x_validation)[:,1]\n",
    "roc_auc_score(y_validation, predictions, average='weighted')\n",
    "\n",
    "fpr, tpr, threshold = roc_curve(y_validation, predictions)\n",
    "\n",
    "# Calculating the AUC Score\n",
    "auc = np.trapz(tpr,fpr)\n",
    "pltTitle = print(\"AUROC Plot:\", \"%.4f\" %auc)\n",
    "\n",
    "# Plotting the ROC Curve\n",
    "plt.plot(fpr,tpr)\n",
    "plt.title(pltTitle)\n",
    "plt.show()"
   ]
  },
  {
   "cell_type": "code",
   "execution_count": 83,
   "metadata": {},
   "outputs": [],
   "source": [
    "# Applying Model for Test Data\n",
    "\n",
    "predictions = model.predict_proba(test_data)[:,1]\n",
    "id_code = test['UniqueID']\n",
    "\n",
    "output = pd.DataFrame({'UniqueID': id_code, 'loan_default':predictions})\n"
   ]
  },
  {
   "cell_type": "code",
   "execution_count": 87,
   "metadata": {},
   "outputs": [],
   "source": [
    "output.to_csv(cwd + \"\\\\Output\\\\Submission 1 - QT NB NUMERIC COLS 0.60 AUC.csv\", index=False)"
   ]
  }
 ],
 "metadata": {
  "kernelspec": {
   "display_name": "Python 3",
   "language": "python",
   "name": "python3"
  },
  "language_info": {
   "codemirror_mode": {
    "name": "ipython",
    "version": 3
   },
   "file_extension": ".py",
   "mimetype": "text/x-python",
   "name": "python",
   "nbconvert_exporter": "python",
   "pygments_lexer": "ipython3",
   "version": "3.6.5"
  }
 },
 "nbformat": 4,
 "nbformat_minor": 2
}
