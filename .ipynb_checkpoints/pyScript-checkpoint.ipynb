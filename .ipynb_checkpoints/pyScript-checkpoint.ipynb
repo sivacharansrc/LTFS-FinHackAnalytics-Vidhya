{
 "cells": [
  {
   "cell_type": "code",
   "execution_count": 1,
   "metadata": {},
   "outputs": [],
   "source": [
    "# Loading necessary libraries\n",
    "import pandas as pd\n",
    "import numpy as np\n",
    "import matplotlib.pyplot as plt\n",
    "% matplotlib inline\n",
    "import seaborn as sns\n",
    "pd.set_option('display.max_columns',100)\n",
    "pd.set_option('display.max_columns',100)\n",
    "pd.set_option('expand_frame_repr',False)\n",
    "#import calendar"
   ]
  },
  {
   "cell_type": "code",
   "execution_count": 2,
   "metadata": {},
   "outputs": [],
   "source": [
    "# Reading the input file\n",
    "\n",
    "import os\n",
    "cwd = os.getcwd()\n",
    "train = cwd + \"\\\\Source\\\\train.csv\"\n",
    "train = pd.read_csv(train)\n",
    "\n",
    "test = cwd + \"\\\\Source\\\\test.csv\"\n",
    "test = pd.read_csv(test)"
   ]
  },
  {
   "cell_type": "code",
   "execution_count": 3,
   "metadata": {},
   "outputs": [],
   "source": [
    "# print(train[train['Employment.Type'].notnull()]['loan_default'].value_counts() / len(train[train['Employment.Type'].notnull()]))\n",
    "# print(train[train['Employment.Type'].isnull()]['loan_default'].value_counts() / len(train[train['Employment.Type'].isnull()]))\n",
    "# print(train[train['Employment.Type']=='Self employed']['loan_default'].value_counts() / len(train[train['Employment.Type']=='Self employed']))\n",
    "# print(train[train['Employment.Type']=='Salaried']['loan_default'].value_counts() / len(train[train['Employment.Type']=='Salaried']))\n",
    "\n",
    "# # Though there are not much differences between the default distribution, it appears as if the Salaried people are more \n",
    "# # likely to pay loan in item when compared to Self Employed"
   ]
  },
  {
   "cell_type": "code",
   "execution_count": 4,
   "metadata": {},
   "outputs": [],
   "source": [
    "# Converting the date formats\n",
    "\n",
    "train['Date.of.Birth'] = pd.to_datetime(train['Date.of.Birth'], dayfirst=True)\n",
    "train['DisbursalDate'] = pd.to_datetime(train['DisbursalDate'], dayfirst=True)\n",
    "\n",
    "test['Date.of.Birth'] = pd.to_datetime(test['Date.of.Birth'], dayfirst=True)\n",
    "test['DisbursalDate'] = pd.to_datetime(test['DisbursalDate'], dayfirst=True)"
   ]
  },
  {
   "cell_type": "code",
   "execution_count": 28,
   "metadata": {},
   "outputs": [],
   "source": [
    "# Feature Engineering\n",
    "\n",
    "# Creating the age of loan applicant at the time of disbursal\n",
    "train['Age_when_applying'] = (train['DisbursalDate'] - train['Date.of.Birth']).dt.days / 365\n",
    "test['Age_when_applying'] = (train['DisbursalDate'] - test['Date.of.Birth']).dt.days / 365\n",
    "train['Age_when_applying'] = np.where(train['Age_when_applying'] < 0, 100+train['Age_when_applying'], train['Age_when_applying'])\n",
    "test['Age_when_applying'] = np.where(test['Age_when_applying'] < 0, 100+test['Age_when_applying'], test['Age_when_applying'])\n",
    "\n",
    "# Creating the avg acct age and cred hist age in months\n",
    "train['avg_acct_age_mnth'] = ((train['AVERAGE.ACCT.AGE'].str.extract('(\\d+)yrs').astype('int64')*12) + train['AVERAGE.ACCT.AGE'].str.extract('(\\d+)mon').astype('int64'))\n",
    "train['avg_credit_hist_mnth'] = ((train['CREDIT.HISTORY.LENGTH'].str.extract('(\\d+)yrs').astype('int64')*12) + train['CREDIT.HISTORY.LENGTH'].str.extract('(\\d+)mon').astype('int64'))\n",
    "\n",
    "test['avg_acct_age_mnth'] = ((test['AVERAGE.ACCT.AGE'].str.extract('(\\d+)yrs').astype('int64')*12) + test['AVERAGE.ACCT.AGE'].str.extract('(\\d+)mon').astype('int64'))\n",
    "test['avg_credit_hist_mnth'] = ((test['CREDIT.HISTORY.LENGTH'].str.extract('(\\d+)yrs').astype('int64')*12) + test['CREDIT.HISTORY.LENGTH'].str.extract('(\\d+)mon').astype('int64'))\n",
    "\n",
    "# Creating a Overdue Percentage for Primary and Seconardy Accounts\n",
    "\n",
    "train['prim_overdue_acct_pct'] = (train['PRI.OVERDUE.ACCTS'] / train['PRI.NO.OF.ACCTS']).fillna(0)\n",
    "train['sec_overdue_acct_pct'] = (train['SEC.OVERDUE.ACCTS'] / train['SEC.NO.OF.ACCTS']).fillna(0)\n",
    "\n",
    "test['prim_overdue_acct_pct'] = (test['PRI.OVERDUE.ACCTS'] / test['PRI.NO.OF.ACCTS']).fillna(0)\n",
    "test['sec_overdue_acct_pct'] = (test['SEC.OVERDUE.ACCTS'] / test['SEC.NO.OF.ACCTS']).fillna(0)\n",
    "\n",
    "# Creating loan to asset ratio\n",
    "train['asset_to_loan_pct'] =  train['asset_cost'] / train['disbursed_amount']\n",
    "test['asset_to_loan_pct'] =  test['asset_cost'] / test['disbursed_amount']\n",
    "\n",
    "# Imputing zero values of CNS Score (Test data also imputed with train mean)\n",
    "train.loc[train['PERFORM_CNS.SCORE']==0, 'PERFORM_CNS.SCORE'] = train['PERFORM_CNS.SCORE'][train['PERFORM_CNS.SCORE'] != 0].mean()\n",
    "test.loc[test['PERFORM_CNS.SCORE']==0, 'PERFORM_CNS.SCORE'] = train['PERFORM_CNS.SCORE'][train['PERFORM_CNS.SCORE'] != 0].mean()\n",
    "\n",
    "# Creating a Total Outstanding balance\n",
    "train['total_outstanding'] = train['disbursed_amount'] + train['PRI.CURRENT.BALANCE']\n",
    "test['total_outstanding'] = test['disbursed_amount'] + test['PRI.CURRENT.BALANCE']\n",
    "\n",
    "# Current to Outstanding ratio\n",
    "train['curr_outstd_ratio'] = train['disbursed_amount'] / (train['disbursed_amount'] + train['PRI.CURRENT.BALANCE'])\n",
    "test['curr_outstd_ratio'] = test['disbursed_amount'] / (test['disbursed_amount'] + test['PRI.CURRENT.BALANCE'])\n",
    "\n",
    "# Previous Installment Capability\n",
    "train['instalment_health'] = train['PRI.DISBURSED.AMOUNT'] / train['avg_credit_hist_mnth']\n",
    "test['instalment_health'] = test['PRI.DISBURSED.AMOUNT'] / test['avg_credit_hist_mnth']\n",
    "\n",
    "\n",
    "# Previous Installment to Current Disbursed Amt Ratio\n",
    "\n",
    "train['inst_curr_disb_ratio'] = train['instalment_health'] / train['disbursed_amount']\n",
    "test['inst_curr_disb_ratio'] = test['instalment_health'] / test['disbursed_amount']\n",
    "\n",
    "# Filling missing values and inf values for Instalment Health and instalment to current disbursed ratio\n",
    "train['instalment_health'].fillna(-9999, inplace=True)\n",
    "test['instalment_health'].fillna(-9999, inplace=True)\n",
    "train['inst_curr_disb_ratio'].fillna(-9.9, inplace=True)\n",
    "test['inst_curr_disb_ratio'].fillna(-9.9, inplace=True)\n",
    "\n",
    "train['instalment_health'] = np.where(np.isinf(train['instalment_health']),-999, train['instalment_health'])\n",
    "test['instalment_health'] = np.where(np.isinf(test['instalment_health']),-999, test['instalment_health'])\n",
    "train['inst_curr_disb_ratio'] = np.where(np.isinf(train['inst_curr_disb_ratio']),-0.9, train['inst_curr_disb_ratio'])\n",
    "test['inst_curr_disb_ratio'] = np.where(np.isinf(test['inst_curr_disb_ratio']),-0.9, test['inst_curr_disb_ratio'])\n",
    "\n",
    "\n",
    "# Impute Missing Employment Type with Unemployed\n",
    "train['Employment.Type'] = np.where(train['Employment.Type'].isnull(), 'Unemployed', train['Employment.Type'])\n",
    "test['Employment.Type'] = np.where(test['Employment.Type'].isnull(), 'Unemployed', test['Employment.Type'])\n",
    "\n",
    "# Credit History Desc\n",
    "train['cred_hist_desc'] = np.where(train['PERFORM_CNS.SCORE.DESCRIPTION'].str.contains('-Very High Risk'), 'Very High Risk',\n",
    "         np.where(train['PERFORM_CNS.SCORE.DESCRIPTION'].str.contains('-Very Low Risk'), 'Very Low Risk',\n",
    "                 np.where(train['PERFORM_CNS.SCORE.DESCRIPTION'].str.contains('-Low Risk'), 'Low Risk',\n",
    "                         np.where(train['PERFORM_CNS.SCORE.DESCRIPTION'].str.contains('-Medium Risk'), 'Medium Risk',\n",
    "                                 np.where(train['PERFORM_CNS.SCORE.DESCRIPTION'].str.contains('-High Risk'), 'High Risk',\n",
    "                                         np.where(train['PERFORM_CNS.SCORE.DESCRIPTION'].str.contains('No Bureau History'), 'No History',\n",
    "                                                 np.where(train['PERFORM_CNS.SCORE.DESCRIPTION'].str.contains('Not Scored'), 'Not Scored', train['PERFORM_CNS.SCORE.DESCRIPTION'])))))))\n",
    "\n",
    "test['cred_hist_desc'] = np.where(test['PERFORM_CNS.SCORE.DESCRIPTION'].str.contains('-Very High Risk'), 'Very High Risk',\n",
    "         np.where(test['PERFORM_CNS.SCORE.DESCRIPTION'].str.contains('-Very Low Risk'), 'Very Low Risk',\n",
    "                 np.where(test['PERFORM_CNS.SCORE.DESCRIPTION'].str.contains('-Low Risk'), 'Low Risk',\n",
    "                         np.where(test['PERFORM_CNS.SCORE.DESCRIPTION'].str.contains('-Medium Risk'), 'Medium Risk',\n",
    "                                 np.where(test['PERFORM_CNS.SCORE.DESCRIPTION'].str.contains('-High Risk'), 'High Risk',\n",
    "                                         np.where(test['PERFORM_CNS.SCORE.DESCRIPTION'].str.contains('No Bureau History'), 'No History',\n",
    "                                                 np.where(test['PERFORM_CNS.SCORE.DESCRIPTION'].str.contains('Not Scored'), 'Not Scored', test['PERFORM_CNS.SCORE.DESCRIPTION'])))))))\n",
    "\n",
    "# Creating Age to Total Outstanding Ratio\n",
    "train['age_outstd_ratio'] = train['Age_when_applying'] / train['total_outstanding']\n",
    "test['age_outstd_ratio'] = test['Age_when_applying'] / test['total_outstanding']"
   ]
  },
  {
   "cell_type": "code",
   "execution_count": 30,
   "metadata": {},
   "outputs": [],
   "source": [
    "# Selecting columns for predictors:\n",
    "\n",
    "predictors = ['disbursed_amount', 'asset_cost', 'ltv','MobileNo_Avl_Flag', 'Aadhar_flag', 'PAN_flag', 'VoterID_flag', 'Driving_flag', 'Passport_flag', 'PERFORM_CNS.SCORE',\n",
    "       'PRI.NO.OF.ACCTS', 'PRI.ACTIVE.ACCTS', 'PRI.OVERDUE.ACCTS', 'PRI.CURRENT.BALANCE', 'PRI.SANCTIONED.AMOUNT', 'PRI.DISBURSED.AMOUNT',\n",
    "       'SEC.NO.OF.ACCTS', 'SEC.ACTIVE.ACCTS', 'SEC.OVERDUE.ACCTS', 'SEC.CURRENT.BALANCE', 'SEC.SANCTIONED.AMOUNT', 'SEC.DISBURSED.AMOUNT',\n",
    "       'PRIMARY.INSTAL.AMT', 'SEC.INSTAL.AMT', 'NEW.ACCTS.IN.LAST.SIX.MONTHS', 'DELINQUENT.ACCTS.IN.LAST.SIX.MONTHS', 'NO.OF_INQUIRIES', 'avg_acct_age_mnth', 'avg_credit_hist_mnth',\n",
    "       'Age_when_applying', 'prim_overdue_acct_pct', 'sec_overdue_acct_pct', 'asset_to_loan_pct']\n",
    "\n",
    "# Predictors for Random Forest Classifer after optimizing for Feature Importance\n",
    "predictors = ['disbursed_amount', 'asset_cost', 'ltv','Aadhar_flag', 'PAN_flag', 'VoterID_flag', 'Driving_flag', 'PERFORM_CNS.SCORE',\n",
    "       'PRI.NO.OF.ACCTS', 'PRI.ACTIVE.ACCTS', 'PRI.OVERDUE.ACCTS', 'PRI.CURRENT.BALANCE', 'PRI.SANCTIONED.AMOUNT', 'PRI.DISBURSED.AMOUNT',\n",
    "       'PRIMARY.INSTAL.AMT', 'NEW.ACCTS.IN.LAST.SIX.MONTHS', 'DELINQUENT.ACCTS.IN.LAST.SIX.MONTHS', 'NO.OF_INQUIRIES', 'avg_acct_age_mnth', 'avg_credit_hist_mnth',\n",
    "       'Age_when_applying', 'prim_overdue_acct_pct','asset_to_loan_pct', 'total_outstanding', 'cred_hist_desc', 'Employment.Type',\n",
    "              'inst_curr_disb_ratio', 'instalment_health', 'curr_outstd_ratio', 'total_outstanding', 'age_outstd_ratio']\n",
    "\n",
    "target = 'loan_default'\n",
    "x = train[predictors]\n",
    "y = train[target]\n",
    "test_data = test[predictors]"
   ]
  },
  {
   "cell_type": "code",
   "execution_count": 31,
   "metadata": {},
   "outputs": [],
   "source": [
    "# Creating Dummy Data\n",
    "\n",
    "x = pd.get_dummies(x)\n",
    "test_data = pd.get_dummies(test_data)"
   ]
  },
  {
   "cell_type": "code",
   "execution_count": 32,
   "metadata": {},
   "outputs": [],
   "source": [
    "# # Standardizing the data to perform naive bayes\n",
    "\n",
    "# from sklearn.preprocessing import QuantileTransformer\n",
    "\n",
    "# transform_data = QuantileTransformer(output_distribution='normal')\n",
    "# col_names = x.columns\n",
    "\n",
    "# x = transform_data.fit_transform(x)\n",
    "# x = pd.DataFrame(data=x, columns=col_names)\n",
    "\n",
    "# test_data = transform_data.fit_transform(test_data)\n",
    "# test_data = pd.DataFrame(data=test_data, columns=col_names)\n",
    "\n",
    "# from sklearn.preprocessing import StandardScaler\n",
    "\n",
    "# transform_data = StandardScaler()\n",
    "# col_names = x.columns\n",
    "\n",
    "# x = transform_data.fit_transform(x)\n",
    "# x = pd.DataFrame(data=x, columns=col_names)\n",
    "\n",
    "# test_data = transform_data.fit_transform(test_data)\n",
    "# test_data = pd.DataFrame(data=test_data, columns=col_names)"
   ]
  },
  {
   "cell_type": "code",
   "execution_count": 40,
   "metadata": {},
   "outputs": [],
   "source": [
    "# Train and Validation Split\n",
    "\n",
    "from sklearn.model_selection import train_test_split\n",
    "\n",
    "x_train, x_validation, y_train, y_validation = train_test_split(x,y, stratify=y, random_state=1, test_size=0.25)"
   ]
  },
  {
   "cell_type": "code",
   "execution_count": 41,
   "metadata": {},
   "outputs": [],
   "source": [
    "# UNDER SAMPLING DATA\n",
    "sampleData = x_train.copy()\n",
    "sampleData['target'] = y_train\n",
    "\n",
    "underSample_length = len(sampleData[sampleData.target == 1])\n",
    "\n",
    "zero_target_indices = sampleData[sampleData.target == 0].index\n",
    "random_indices = np.random.choice(zero_target_indices, underSample_length, replace=False)\n",
    "\n",
    "target_data = sampleData[sampleData.target == 1]\n",
    "zero_target_data = sampleData[sampleData.index.isin(random_indices)]\n",
    "x_train = pd.concat([target_data, zero_target_data])\n",
    "\n",
    "y_train = x_train['target']\n",
    "x_train = x_train.drop('target', axis=1)"
   ]
  },
  {
   "cell_type": "code",
   "execution_count": 11,
   "metadata": {},
   "outputs": [],
   "source": [
    "# # Running a Naive Bayes Model\n",
    "\n",
    "# from sklearn.naive_bayes import GaussianNB\n",
    "# model = GaussianNB()\n",
    "\n",
    "# # Training the model\n",
    "\n",
    "# model.fit(x_train, y_train)\n",
    "# train_predictions = model.predict(x_train)\n",
    "# predictions = model.predict(x_validation)"
   ]
  },
  {
   "cell_type": "code",
   "execution_count": 12,
   "metadata": {},
   "outputs": [],
   "source": [
    "# # Converting to lgbm dataset\n",
    "\n",
    "# import lightgbm as lgb\n",
    "\n",
    "# x_train = lgb.Dataset(x_train, free_raw_data=False)\n",
    "# x_validation = lgb.Dataset(x_validation, free_raw_data=False)"
   ]
  },
  {
   "cell_type": "code",
   "execution_count": 13,
   "metadata": {},
   "outputs": [],
   "source": [
    "# # Running LGBM\n",
    "\n",
    "# # Setting Parameters:\n",
    "\n",
    "# param = {\n",
    "#         'num_leaves': 4,\n",
    "#         'objective': 'binary',\n",
    "#         'metric': 'auc',\n",
    "#         'early_stopping_rounds':10,\n",
    "#        }\n",
    "\n",
    "# num_round=10\n",
    "# model = lgb.train(param, x_train, num_round, valid_sets=[x_validation])"
   ]
  },
  {
   "cell_type": "code",
   "execution_count": 55,
   "metadata": {},
   "outputs": [],
   "source": [
    "# Running a Random Forest Classifier\n",
    "\n",
    "from sklearn.ensemble import RandomForestClassifier\n",
    "\n",
    "#model = RandomForestClassifier(n_estimators=100, criterion='gini', min_samples_split=10, min_samples_leaf=3, bootstrap=True, oob_score=True, n_jobs=-1, random_state=10)\n",
    "\n",
    "model = RandomForestClassifier(n_estimators=500, criterion='gini', max_depth=25, min_samples_leaf=5, oob_score=True, n_jobs=-1, random_state=10)\n",
    "\n",
    "# Training the model\n",
    "\n",
    "model.fit(x_train, y_train)\n",
    "train_predictions = model.predict(x_train)\n",
    "predictions = model.predict(x_validation)"
   ]
  },
  {
   "cell_type": "code",
   "execution_count": 43,
   "metadata": {},
   "outputs": [
    {
     "data": {
      "text/plain": [
       "<matplotlib.axes._subplots.AxesSubplot at 0x23f4f2e9c88>"
      ]
     },
     "execution_count": 43,
     "metadata": {},
     "output_type": "execute_result"
    },
    {
     "data": {
      "image/png": "[encoded data removed]",
      "text/plain": [
       "<Figure size 1080x720 with 1 Axes>"
      ]
     },
     "metadata": {},
     "output_type": "display_data"
    }
   ],
   "source": [
    "# Feature Importance Graph\n",
    "\n",
    "plt.figure(figsize=(15,10))\n",
    "feat_importances = pd.Series(model.feature_importances_, index=x_train.columns)\n",
    "feat_importances.nlargest(105).plot(kind='barh')"
   ]
  },
  {
   "cell_type": "code",
   "execution_count": 56,
   "metadata": {},
   "outputs": [
    {
     "name": "stdout",
     "output_type": "stream",
     "text": [
      "Confustion Matrix for Training Data\n",
      "[[30488  7470]\n",
      " [ 4127 33831]]\n",
      "Confustion Matrix for Test Data\n",
      "[[25109 20527]\n",
      " [ 4504  8149]]\n",
      "Classification Report for Training Data\n",
      "             precision    recall  f1-score   support\n",
      "\n",
      "          0       0.88      0.80      0.84     37958\n",
      "          1       0.82      0.89      0.85     37958\n",
      "\n",
      "avg / total       0.85      0.85      0.85     75916\n",
      "\n",
      "Classification Report for Test Data\n",
      "             precision    recall  f1-score   support\n",
      "\n",
      "          0       0.85      0.55      0.67     45636\n",
      "          1       0.28      0.64      0.39     12653\n",
      "\n",
      "avg / total       0.73      0.57      0.61     58289\n",
      "\n"
     ]
    }
   ],
   "source": [
    "# Confusion Matrix and Report\n",
    "\n",
    "from sklearn.metrics import confusion_matrix\n",
    "from sklearn.metrics import classification_report\n",
    "\n",
    "# Confusion Matrix Comparison\n",
    "print(\"Confustion Matrix for Training Data\")\n",
    "print(confusion_matrix(y_train, train_predictions))\n",
    "print(\"Confustion Matrix for Test Data\")\n",
    "print(confusion_matrix(y_validation, predictions))\n",
    "\n",
    "# Classification Report Comparison\n",
    "print(\"Classification Report for Training Data\")\n",
    "print(classification_report(y_train, train_predictions))\n",
    "print(\"Classification Report for Test Data\")\n",
    "print(classification_report(y_validation, predictions))"
   ]
  },
  {
   "cell_type": "code",
   "execution_count": 57,
   "metadata": {},
   "outputs": [
    {
     "name": "stdout",
     "output_type": "stream",
     "text": [
      "AUROC Plot: 0.6328\n"
     ]
    },
    {
     "data": {
      "image/png": "[encoded data removed]",
      "text/plain": [
       "<Figure size 432x288 with 1 Axes>"
      ]
     },
     "metadata": {},
     "output_type": "display_data"
    }
   ],
   "source": [
    "# AUC ROC CURVE\n",
    "from sklearn.metrics import roc_auc_score\n",
    "from sklearn.metrics import roc_curve\n",
    "\n",
    "predictions = model.predict_proba(x_validation)[:,1]\n",
    "roc_auc_score(y_validation, predictions, average='weighted')\n",
    "\n",
    "fpr, tpr, threshold = roc_curve(y_validation, predictions)\n",
    "\n",
    "# Calculating the AUC Score\n",
    "auc = np.trapz(tpr,fpr)\n",
    "pltTitle = print(\"AUROC Plot:\", \"%.4f\" %auc)\n",
    "\n",
    "# Plotting the ROC Curve\n",
    "plt.plot(fpr,tpr)\n",
    "plt.title(pltTitle)\n",
    "plt.show()"
   ]
  },
  {
   "cell_type": "code",
   "execution_count": 58,
   "metadata": {},
   "outputs": [],
   "source": [
    "# Applying Model for Test Data\n",
    "\n",
    "predictions = model.predict_proba(test_data)[:,1]\n",
    "id_code = test['UniqueID']\n",
    "\n",
    "output = pd.DataFrame({'UniqueID': id_code, 'loan_default':predictions})\n"
   ]
  },
  {
   "cell_type": "code",
   "execution_count": 59,
   "metadata": {},
   "outputs": [],
   "source": [
    "output.to_csv(cwd + \"\\\\Output\\\\Submission 3 - RF UNDERSAMPLED 0.63 AUC.csv\", index=False)"
   ]
  },
  {
   "cell_type": "code",
   "execution_count": null,
   "metadata": {},
   "outputs": [],
   "source": [
    "# Optimization Reference\n",
    "# https://blog.floydhub.com/guide-to-hyperparameters-search-for-deep-learning-models/\n",
    "# https://scikit-learn.org/stable/modules/generated/sklearn.model_selection.RandomizedSearchCV.html#sklearn.model_selection.RandomizedSearchCV\n",
    "# https://towardsdatascience.com/hyperparameter-tuning-the-random-forest-in-python-using-scikit-learn-28d2aa77dd74\n",
    "# https://www.mathworks.com/help/stats/tune-random-forest-using-quantile-error-and-bayesian-optimization.html"
   ]
  }
 ],
 "metadata": {
  "kernelspec": {
   "display_name": "Python 3",
   "language": "python",
   "name": "python3"
  },
  "language_info": {
   "codemirror_mode": {
    "name": "ipython",
    "version": 3
   },
   "file_extension": ".py",
   "mimetype": "text/x-python",
   "name": "python",
   "nbconvert_exporter": "python",
   "pygments_lexer": "ipython3",
   "version": "3.6.5"
  }
 },
 "nbformat": 4,
 "nbformat_minor": 2
}
